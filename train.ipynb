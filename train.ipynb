{
 "cells": [
  {
   "cell_type": "code",
   "execution_count": 1,
   "id": "ff3d42d4",
   "metadata": {},
   "outputs": [],
   "source": [
    "import streamlit as st\n",
    "import numpy as np\n",
    "import torch\n",
    "import torch.nn as nn\n",
    "import torch.utils.data as Data\n",
    "import torchvision\n",
    "from torchvision import transforms\n",
    "import matplotlib.pyplot as plt\n",
    "from model import MNISTModel\n",
    "from sklearn import metrics"
   ]
  },
  {
   "cell_type": "code",
   "execution_count": 2,
   "id": "8df261ca",
   "metadata": {},
   "outputs": [
    {
     "name": "stdout",
     "output_type": "stream",
     "text": [
      "cuda\n"
     ]
    },
    {
     "name": "stderr",
     "output_type": "stream",
     "text": [
      "/home/ykc/dev/miniconda3/envs/torch/lib/python3.9/site-packages/torchvision/datasets/mnist.py:498: UserWarning: The given NumPy array is not writeable, and PyTorch does not support non-writeable tensors. This means you can write to the underlying (supposedly non-writeable) NumPy array using the tensor. You may want to copy the array to protect its data or make it writeable before converting it to a tensor. This type of warning will be suppressed for the rest of this program. (Triggered internally at  /opt/conda/conda-bld/pytorch_1623448238472/work/torch/csrc/utils/tensor_numpy.cpp:180.)\n",
      "  return torch.from_numpy(parsed.astype(m[2], copy=False)).view(*s)\n"
     ]
    }
   ],
   "source": [
    "device = \"cuda\" if torch.cuda.is_available() else \"cpu\"\n",
    "print(device)\n",
    "\n",
    "# set download to true if don't have the dataset.\n",
    "fullData = torchvision.datasets.MNIST(\n",
    "    root=\"./MNIST\",\n",
    "    train=True,\n",
    "    transform=transforms.Compose(\n",
    "        [transforms.ToTensor(), transforms.Normalize((0.1307,), (0.3081,))]\n",
    "    ),\n",
    "    download=False,\n",
    ")"
   ]
  },
  {
   "cell_type": "code",
   "execution_count": 3,
   "id": "ac3aaeaa",
   "metadata": {},
   "outputs": [],
   "source": [
    "N = len(fullData)\n",
    "trainL = int(0.9 * N)\n",
    "testL = N - trainL\n",
    "\n",
    "trainData, testData = Data.random_split(fullData, [trainL, testL])"
   ]
  },
  {
   "cell_type": "code",
   "execution_count": 4,
   "id": "faba431c",
   "metadata": {},
   "outputs": [],
   "source": [
    "batch_size = 512\n",
    "\n",
    "trainLoader = Data.DataLoader(dataset=trainData, batch_size=batch_size, shuffle=True)\n",
    "testLoader = Data.DataLoader(dataset=testData, batch_size=testL, shuffle=True)\n",
    "testX, testY = next(iter(testLoader))\n",
    "testX, testY = testX.to(device), testY.to(device)\n",
    "\n",
    "model = MNISTModel(inChannels=1, outChannels=32).to(device)\n",
    "criterion = nn.CrossEntropyLoss()\n",
    "optim = torch.optim.Adam(model.parameters(), lr=1e-4)\n",
    "epochs = 1"
   ]
  },
  {
   "cell_type": "code",
   "execution_count": 5,
   "id": "3f221e91",
   "metadata": {
    "scrolled": true
   },
   "outputs": [
    {
     "name": "stderr",
     "output_type": "stream",
     "text": [
      "/home/ykc/dev/miniconda3/envs/torch/lib/python3.9/site-packages/torch/nn/functional.py:718: UserWarning: Named tensors and all their associated APIs are an experimental feature and subject to change. Please do not use them for anything important until they are released as stable. (Triggered internally at  /opt/conda/conda-bld/pytorch_1623448238472/work/c10/core/TensorImpl.h:1156.)\n",
      "  return torch.max_pool2d(input, kernel_size, stride, padding, dilation, ceil_mode)\n"
     ]
    },
    {
     "name": "stdout",
     "output_type": "stream",
     "text": [
      "loss: 2.297577381134033 val_loss: 2.299563407897949\n",
      "model saved\n",
      "loss: 2.283827066421509 val_loss: 2.2970035076141357\n",
      "model saved\n",
      "loss: 2.2602198123931885 val_loss: 2.294132947921753\n",
      "model saved\n",
      "loss: 2.2367749214172363 val_loss: 2.290884494781494\n",
      "model saved\n",
      "loss: 2.220116138458252 val_loss: 2.287209987640381\n",
      "model saved\n",
      "loss: 2.1956613063812256 val_loss: 2.2830536365509033\n",
      "model saved\n",
      "loss: 2.1753673553466797 val_loss: 2.2783427238464355\n",
      "model saved\n",
      "loss: 2.1365339756011963 val_loss: 2.2730395793914795\n",
      "model saved\n",
      "loss: 2.127300977706909 val_loss: 2.26704740524292\n",
      "model saved\n",
      "loss: 2.0943243503570557 val_loss: 2.260267972946167\n",
      "model saved\n",
      "loss: 2.058255910873413 val_loss: 2.2526137828826904\n",
      "model saved\n",
      "loss: 2.027944564819336 val_loss: 2.244008779525757\n",
      "model saved\n",
      "loss: 2.009911298751831 val_loss: 2.2343592643737793\n",
      "model saved\n",
      "loss: 1.99503493309021 val_loss: 2.2235910892486572\n",
      "model saved\n",
      "loss: 1.973358392715454 val_loss: 2.2116219997406006\n",
      "model saved\n",
      "loss: 1.9371904134750366 val_loss: 2.1984314918518066\n",
      "model saved\n",
      "loss: 1.9245513677597046 val_loss: 2.1839287281036377\n",
      "model saved\n",
      "loss: 1.8949445486068726 val_loss: 2.1681554317474365\n",
      "model saved\n",
      "loss: 1.877017855644226 val_loss: 2.151101589202881\n",
      "model saved\n",
      "loss: 1.865644931793213 val_loss: 2.132800817489624\n",
      "model saved\n",
      "loss: 1.87476646900177 val_loss: 2.113471746444702\n",
      "model saved\n",
      "loss: 1.8309930562973022 val_loss: 2.0932726860046387\n",
      "model saved\n",
      "loss: 1.8527181148529053 val_loss: 2.072364091873169\n",
      "model saved\n",
      "loss: 1.81789231300354 val_loss: 2.0509183406829834\n",
      "model saved\n",
      "loss: 1.8196349143981934 val_loss: 2.029144763946533\n",
      "model saved\n",
      "loss: 1.8111772537231445 val_loss: 2.0073208808898926\n",
      "model saved\n",
      "loss: 1.7905657291412354 val_loss: 1.9856399297714233\n",
      "model saved\n",
      "loss: 1.7854490280151367 val_loss: 1.9644273519515991\n",
      "model saved\n",
      "loss: 1.7742749452590942 val_loss: 1.9436525106430054\n",
      "model saved\n",
      "loss: 1.763910174369812 val_loss: 1.9235190153121948\n",
      "model saved\n",
      "loss: 1.7421430349349976 val_loss: 1.904081106185913\n",
      "model saved\n",
      "loss: 1.7679920196533203 val_loss: 1.8856010437011719\n",
      "model saved\n",
      "loss: 1.7571308612823486 val_loss: 1.8679403066635132\n",
      "model saved\n",
      "loss: 1.730438232421875 val_loss: 1.8512247800827026\n",
      "model saved\n",
      "loss: 1.7349756956100464 val_loss: 1.835487961769104\n",
      "model saved\n",
      "loss: 1.7310389280319214 val_loss: 1.8208235502243042\n",
      "model saved\n",
      "loss: 1.7230387926101685 val_loss: 1.807039737701416\n",
      "model saved\n",
      "loss: 1.7068740129470825 val_loss: 1.7939594984054565\n",
      "model saved\n",
      "loss: 1.7026389837265015 val_loss: 1.781842589378357\n",
      "model saved\n",
      "loss: 1.6897833347320557 val_loss: 1.7703989744186401\n",
      "model saved\n",
      "loss: 1.708487629890442 val_loss: 1.7598978281021118\n",
      "model saved\n",
      "loss: 1.698781967163086 val_loss: 1.7499871253967285\n",
      "model saved\n",
      "loss: 1.7043039798736572 val_loss: 1.7407325506210327\n",
      "model saved\n",
      "loss: 1.6893956661224365 val_loss: 1.7320294380187988\n",
      "model saved\n",
      "loss: 1.700047492980957 val_loss: 1.7237634658813477\n",
      "model saved\n",
      "loss: 1.6693170070648193 val_loss: 1.7160934209823608\n",
      "model saved\n",
      "loss: 1.6674751043319702 val_loss: 1.7087392807006836\n",
      "model saved\n",
      "loss: 1.6628590822219849 val_loss: 1.7020124197006226\n",
      "model saved\n",
      "loss: 1.6485373973846436 val_loss: 1.6955419778823853\n",
      "model saved\n",
      "loss: 1.6378957033157349 val_loss: 1.6895076036453247\n",
      "model saved\n",
      "loss: 1.6458868980407715 val_loss: 1.683908224105835\n",
      "model saved\n",
      "loss: 1.6442691087722778 val_loss: 1.6783421039581299\n",
      "model saved\n",
      "loss: 1.6305882930755615 val_loss: 1.6735444068908691\n",
      "model saved\n",
      "loss: 1.6259253025054932 val_loss: 1.668835163116455\n",
      "model saved\n",
      "loss: 1.654801368713379 val_loss: 1.6643704175949097\n",
      "model saved\n",
      "loss: 1.6506887674331665 val_loss: 1.6602503061294556\n",
      "model saved\n",
      "loss: 1.6269797086715698 val_loss: 1.6563787460327148\n",
      "model saved\n",
      "loss: 1.6415150165557861 val_loss: 1.6528021097183228\n",
      "model saved\n",
      "loss: 1.6634548902511597 val_loss: 1.649404764175415\n",
      "model saved\n",
      "loss: 1.66117525100708 val_loss: 1.6461514234542847\n",
      "model saved\n",
      "loss: 1.6250096559524536 val_loss: 1.6429345607757568\n",
      "model saved\n",
      "loss: 1.644005537033081 val_loss: 1.6399898529052734\n",
      "model saved\n",
      "loss: 1.6299974918365479 val_loss: 1.637224793434143\n",
      "model saved\n",
      "loss: 1.6209087371826172 val_loss: 1.634657382965088\n",
      "model saved\n",
      "loss: 1.6279972791671753 val_loss: 1.632102370262146\n",
      "model saved\n",
      "loss: 1.6165802478790283 val_loss: 1.6296285390853882\n",
      "model saved\n",
      "loss: 1.6047390699386597 val_loss: 1.6274155378341675\n",
      "model saved\n",
      "loss: 1.6204662322998047 val_loss: 1.6249734163284302\n",
      "model saved\n",
      "loss: 1.6253498792648315 val_loss: 1.6228175163269043\n",
      "model saved\n",
      "loss: 1.6438565254211426 val_loss: 1.6206443309783936\n",
      "model saved\n",
      "loss: 1.6285887956619263 val_loss: 1.618609070777893\n",
      "model saved\n",
      "loss: 1.6195274591445923 val_loss: 1.6167693138122559\n",
      "model saved\n",
      "loss: 1.6091434955596924 val_loss: 1.6150821447372437\n",
      "model saved\n",
      "loss: 1.6082286834716797 val_loss: 1.6133606433868408\n",
      "model saved\n",
      "loss: 1.60255765914917 val_loss: 1.6117229461669922\n",
      "model saved\n",
      "loss: 1.5983624458312988 val_loss: 1.6101810932159424\n",
      "model saved\n",
      "loss: 1.6238104104995728 val_loss: 1.608746886253357\n",
      "model saved\n",
      "loss: 1.595712423324585 val_loss: 1.607253909111023\n",
      "model saved\n",
      "loss: 1.6197985410690308 val_loss: 1.6058933734893799\n",
      "model saved\n",
      "loss: 1.600891351699829 val_loss: 1.6043487787246704\n",
      "model saved\n",
      "loss: 1.610919713973999 val_loss: 1.6030141115188599\n",
      "model saved\n",
      "loss: 1.591942310333252 val_loss: 1.601724624633789\n",
      "model saved\n",
      "loss: 1.6008083820343018 val_loss: 1.600536584854126\n",
      "model saved\n",
      "loss: 1.6117767095565796 val_loss: 1.599268913269043\n",
      "model saved\n",
      "loss: 1.6119152307510376 val_loss: 1.5981297492980957\n",
      "model saved\n",
      "loss: 1.604183554649353 val_loss: 1.59723699092865\n",
      "model saved\n",
      "loss: 1.601280689239502 val_loss: 1.5960850715637207\n",
      "model saved\n",
      "loss: 1.6095590591430664 val_loss: 1.5949853658676147\n",
      "model saved\n",
      "loss: 1.6046452522277832 val_loss: 1.5940914154052734\n",
      "model saved\n",
      "loss: 1.5849963426589966 val_loss: 1.5931118726730347\n",
      "model saved\n",
      "loss: 1.6031209230422974 val_loss: 1.5919547080993652\n",
      "model saved\n",
      "loss: 1.590333104133606 val_loss: 1.5910658836364746\n",
      "model saved\n",
      "loss: 1.5849910974502563 val_loss: 1.5902552604675293\n",
      "model saved\n",
      "loss: 1.5877400636672974 val_loss: 1.589180827140808\n",
      "model saved\n",
      "loss: 1.5998055934906006 val_loss: 1.5883015394210815\n",
      "model saved\n",
      "loss: 1.5947315692901611 val_loss: 1.5873619318008423\n",
      "model saved\n",
      "loss: 1.5911054611206055 val_loss: 1.5865010023117065\n",
      "model saved\n",
      "loss: 1.5867103338241577 val_loss: 1.5854196548461914\n",
      "model saved\n",
      "loss: 1.5798190832138062 val_loss: 1.5845211744308472\n",
      "model saved\n",
      "loss: 1.5822182893753052 val_loss: 1.5836907625198364\n",
      "model saved\n",
      "loss: 1.586667537689209 val_loss: 1.5830497741699219\n",
      "model saved\n",
      "loss: 1.5881112813949585 val_loss: 1.5822718143463135\n",
      "model saved\n",
      "loss: 1.5983798503875732 val_loss: 1.5814512968063354\n",
      "model saved\n",
      "loss: 1.5962681770324707 val_loss: 1.580617070198059\n",
      "model saved\n",
      "loss: 1.6027450561523438 val_loss: 1.5800503492355347\n",
      "model saved\n",
      "loss: 1.5603700876235962 val_loss: 1.5793896913528442\n",
      "model saved\n"
     ]
    }
   ],
   "source": [
    "history = [[], []]\n",
    "currentMax = np.inf\n",
    "for _ in range(epochs):\n",
    "    for trainX, trainY in trainLoader:\n",
    "        model.train()\n",
    "        trainX = trainX.to(device)\n",
    "        trainY = trainY.to(device)\n",
    "\n",
    "        result = model(trainX)\n",
    "        loss = criterion(result, trainY)\n",
    "        loss.backward()\n",
    "        optim.step()\n",
    "        optim.zero_grad()\n",
    "        history[0].append(loss.item())\n",
    "        with torch.no_grad():\n",
    "            model.eval()\n",
    "            result = model(testX)\n",
    "            val_loss = criterion(result, testY)\n",
    "            history[1].append(val_loss.item())\n",
    "            print(f\"loss: {loss.item()} val_loss: {val_loss.item()}\")\n",
    "        if val_loss.item() <= currentMax:\n",
    "            curremtMax = val_loss.item()\n",
    "            torch.save(model, \"checkpoint.pt\")\n",
    "            print(\"model saved\")"
   ]
  },
  {
   "cell_type": "code",
   "execution_count": 6,
   "id": "7baa8d3c",
   "metadata": {},
   "outputs": [
    {
     "data": {
      "image/png": "[encoded data removed]",
      "text/plain": [
       "<Figure size 432x288 with 1 Axes>"
      ]
     },
     "metadata": {
      "needs_background": "light"
     },
     "output_type": "display_data"
    }
   ],
   "source": [
    "plt.plot(history[0], label=\"loss\")\n",
    "plt.plot(history[1], label=\"val_loss\")\n",
    "plt.legend()\n",
    "plt.title(\"history\")\n",
    "plt.show()"
   ]
  },
  {
   "cell_type": "code",
   "execution_count": 7,
   "id": "39f7238f",
   "metadata": {
    "scrolled": true
   },
   "outputs": [
    {
     "name": "stdout",
     "output_type": "stream",
     "text": [
      "accuracy: 0.925\n"
     ]
    },
    {
     "data": {
      "image/png": "[encoded data removed]",
      "text/plain": [
       "<Figure size 432x288 with 1 Axes>"
      ]
     },
     "metadata": {
      "needs_background": "light"
     },
     "output_type": "display_data"
    },
    {
     "data": {
      "image/png": "[encoded data removed]",
      "text/plain": [
       "<Figure size 432x288 with 1 Axes>"
      ]
     },
     "metadata": {
      "needs_background": "light"
     },
     "output_type": "display_data"
    },
    {
     "data": {
      "image/png": "[encoded data removed]",
      "text/plain": [
       "<Figure size 432x288 with 1 Axes>"
      ]
     },
     "metadata": {
      "needs_background": "light"
     },
     "output_type": "display_data"
    },
    {
     "data": {
      "image/png": "[encoded data removed]",
      "text/plain": [
       "<Figure size 432x288 with 1 Axes>"
      ]
     },
     "metadata": {
      "needs_background": "light"
     },
     "output_type": "display_data"
    },
    {
     "data": {
      "image/png": "[encoded data removed]",
      "text/plain": [
       "<Figure size 432x288 with 1 Axes>"
      ]
     },
     "metadata": {
      "needs_background": "light"
     },
     "output_type": "display_data"
    },
    {
     "data": {
      "image/png": "[encoded data removed]",
      "text/plain": [
       "<Figure size 432x288 with 1 Axes>"
      ]
     },
     "metadata": {
      "needs_background": "light"
     },
     "output_type": "display_data"
    },
    {
     "data": {
      "image/png": "[encoded data removed]",
      "text/plain": [
       "<Figure size 432x288 with 1 Axes>"
      ]
     },
     "metadata": {
      "needs_background": "light"
     },
     "output_type": "display_data"
    },
    {
     "data": {
      "image/png": "[encoded data removed]",
      "text/plain": [
       "<Figure size 432x288 with 1 Axes>"
      ]
     },
     "metadata": {
      "needs_background": "light"
     },
     "output_type": "display_data"
    },
    {
     "data": {
      "image/png": "[encoded data removed]",
      "text/plain": [
       "<Figure size 432x288 with 1 Axes>"
      ]
     },
     "metadata": {
      "needs_background": "light"
     },
     "output_type": "display_data"
    },
    {
     "data": {
      "image/png": "[encoded data removed]",
      "text/plain": [
       "<Figure size 432x288 with 1 Axes>"
      ]
     },
     "metadata": {
      "needs_background": "light"
     },
     "output_type": "display_data"
    }
   ],
   "source": [
    "model = torch.load(\"checkpoint.pt\")\n",
    "with torch.no_grad():\n",
    "    model.eval()\n",
    "    testY = testY.cpu().numpy()\n",
    "    pred = model(testX)\n",
    "    _, result = torch.max(pred, 1)\n",
    "    result = result.cpu().numpy()\n",
    "\n",
    "print(f\"accuracy: {metrics.accuracy_score(testY, result)}\")\n",
    "for i in range(10):\n",
    "    plt.imshow(testX[i].squeeze(0).cpu().numpy())\n",
    "    plt.title(f\"Predict: {result[i]} Actual: {testY[i]}\")\n",
    "    plt.show()"
   ]
  },
  {
   "cell_type": "code",
   "execution_count": null,
   "id": "8d6e2a31",
   "metadata": {},
   "outputs": [],
   "source": []
  }
 ],
 "metadata": {
  "kernelspec": {
   "display_name": "Python [conda env:torch]",
   "language": "python",
   "name": "conda-env-torch-py"
  },
  "language_info": {
   "codemirror_mode": {
    "name": "ipython",
    "version": 3
   },
   "file_extension": ".py",
   "mimetype": "text/x-python",
   "name": "python",
   "nbconvert_exporter": "python",
   "pygments_lexer": "ipython3",
   "version": "3.9.6"
  }
 },
 "nbformat": 4,
 "nbformat_minor": 5
}
